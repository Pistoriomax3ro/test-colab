{
  "nbformat": 4,
  "nbformat_minor": 0,
  "metadata": {
    "colab": {
      "provenance": [],
      "authorship_tag": "ABX9TyP4M06mgRAZmxSxaqGMstvF",
      "include_colab_link": true
    },
    "kernelspec": {
      "name": "python3",
      "display_name": "Python 3"
    },
    "language_info": {
      "name": "python"
    },
    "accelerator": "GPU",
    "gpuClass": "standard"
  },
  "cells": [
    {
      "cell_type": "markdown",
      "metadata": {
        "id": "view-in-github",
        "colab_type": "text"
      },
      "source": [
        "<a href=\"https://colab.research.google.com/github/Pistoriomax3ro/test-colab/blob/main/intronympy.ipynb\" target=\"_parent\"><img src=\"https://colab.research.google.com/assets/colab-badge.svg\" alt=\"Open In Colab\"/></a>"
      ]
    },
    {
      "cell_type": "code",
      "execution_count": null,
      "metadata": {
        "colab": {
          "base_uri": "https://localhost:8080/"
        },
        "id": "1kdIVlsE4P_n",
        "outputId": "3e37cd25-f3ae-470c-c373-5b743b46e425"
      },
      "outputs": [
        {
          "output_type": "stream",
          "name": "stdout",
          "text": [
            "hello, world\n"
          ]
        }
      ],
      "source": [
        "print('hello, world')"
      ]
    },
    {
      "cell_type": "code",
      "source": [
        "import numpy as np\n",
        "np.__version__"
      ],
      "metadata": {
        "id": "TMSWHDa-7MR9",
        "outputId": "cda768e6-116d-469b-ed94-a11f7e0b9287",
        "colab": {
          "base_uri": "https://localhost:8080/",
          "height": 36
        }
      },
      "execution_count": 2,
      "outputs": [
        {
          "output_type": "execute_result",
          "data": {
            "text/plain": [
              "'1.22.4'"
            ],
            "application/vnd.google.colaboratory.intrinsic+json": {
              "type": "string"
            }
          },
          "metadata": {},
          "execution_count": 2
        }
      ]
    },
    {
      "cell_type": "code",
      "source": [
        "!pip install imageai"
      ],
      "metadata": {
        "id": "XVeCiMBx9eSc",
        "outputId": "2736024d-a5e7-4387-86d3-e486ddc64c9a",
        "colab": {
          "base_uri": "https://localhost:8080/"
        }
      },
      "execution_count": 9,
      "outputs": [
        {
          "output_type": "stream",
          "name": "stdout",
          "text": [
            "Looking in indexes: https://pypi.org/simple, https://us-python.pkg.dev/colab-wheels/public/simple/\n",
            "Requirement already satisfied: imageai in /usr/local/lib/python3.9/dist-packages (3.0.3)\n"
          ]
        }
      ]
    },
    {
      "cell_type": "code",
      "source": [
        "import imageai"
      ],
      "metadata": {
        "id": "WQywtLkz9yLD"
      },
      "execution_count": 11,
      "outputs": []
    },
    {
      "cell_type": "code",
      "source": [
        "### markdown"
      ],
      "metadata": {
        "id": "WeUlet11955X"
      },
      "execution_count": null,
      "outputs": []
    },
    {
      "cell_type": "markdown",
      "source": [
        "example of *markdown*\\n\n",
        "\n",
        "\n",
        "---\n",
        "\n",
        "\n",
        "example of **markdown**\\n\n",
        "\n",
        "\n",
        "---\n",
        "\n",
        "\n",
        "example of __markdown__\\n \n",
        "\n",
        "\n",
        "---\n",
        "\n",
        "\n",
        "example of 'markdown'\n",
        "\n",
        "---\n",
        "\n",
        "''' \n",
        "markdown\n",
        "'''\n",
        "\n",
        ">python\n",
        ">code\n",
        "\n",
        "[masteringpandas](https://towardsdatascience.com/is-pandas-easy-to-use-try-this-tool-to-make-it-easier-2071eeffe482)\n",
        "\n",
        "![python](https://logos-download.com/wp-content/uploads/2016/10/Python_logo_wordmark.png)"
      ],
      "metadata": {
        "id": "ZTF3RZkz-K5F"
      }
    },
    {
      "cell_type": "markdown",
      "source": [],
      "metadata": {
        "id": "UxOSPNTQ-EhI"
      }
    },
    {
      "cell_type": "markdown",
      "source": [
        "$y = x^2$\n",
        "\n",
        "$\\frac{1}{n} \\sum_{i=1}^{n}{x_i}$"
      ],
      "metadata": {
        "id": "Obg6RXu6_0ea"
      }
    },
    {
      "cell_type": "code",
      "source": [],
      "metadata": {
        "id": "J0oRsLAVBxGH"
      },
      "execution_count": null,
      "outputs": []
    },
    {
      "cell_type": "markdown",
      "source": [
        "$A = \\begin{pmatrix}\n",
        "a_{1,1} & a_{1,2} \\\\\n",
        "a_{2,1} & a_{2,2}\n",
        "\\end{pmatrix}$\n"
      ],
      "metadata": {
        "id": "P0DVUfZ9B3Jt"
      }
    },
    {
      "cell_type": "code",
      "source": [],
      "metadata": {
        "id": "sDcNxRQ6CV9k"
      },
      "execution_count": null,
      "outputs": []
    }
  ]
}